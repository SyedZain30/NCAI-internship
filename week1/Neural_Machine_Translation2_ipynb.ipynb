{
  "nbformat": 4,
  "nbformat_minor": 0,
  "metadata": {
    "colab": {
      "name": "Neural Machine Translation2  ipynb",
      "provenance": [],
      "collapsed_sections": []
    },
    "kernelspec": {
      "name": "python3",
      "display_name": "Python 3"
    },
    "language_info": {
      "name": "python"
    }
  },
  "cells": [
    {
      "cell_type": "code",
      "metadata": {
        "id": "lR-WulY2C5EH"
      },
      "source": [
        "import string\n",
        "import re\n",
        "from numpy import array, argmax, random, take\n",
        "import pandas as pd\n",
        "from keras.models import Sequential\n",
        "from keras.layers import Dense, LSTM, Embedding, RepeatVector\n",
        "from keras.preprocessing.text import Tokenizer\n",
        "from keras.callbacks import ModelCheckpoint\n",
        "from keras.preprocessing.sequence import pad_sequences\n",
        "from keras.models import load_model\n",
        "from keras import optimizers\n",
        "import matplotlib.pyplot as plt\n",
        "%matplotlib inline\n",
        "pd.set_option('display.max_colwidth', 200)"
      ],
      "execution_count": 1,
      "outputs": []
    },
    {
      "cell_type": "code",
      "metadata": {
        "colab": {
          "base_uri": "https://localhost:8080/"
        },
        "id": "CaPXrXPKC8ck",
        "outputId": "b7e5b9f8-a22e-46af-e95c-a7bf4838eace"
      },
      "source": [
        "from google.colab import drive\n",
        "drive.mount('/content/drive')"
      ],
      "execution_count": 2,
      "outputs": [
        {
          "output_type": "stream",
          "text": [
            "Drive already mounted at /content/drive; to attempt to forcibly remount, call drive.mount(\"/content/drive\", force_remount=True).\n"
          ],
          "name": "stdout"
        }
      ]
    },
    {
      "cell_type": "code",
      "metadata": {
        "id": "M_smIcqgC-gt"
      },
      "source": [
        "# function to read raw text file\n",
        "def read_text(filename):\n",
        "        # open the file\n",
        "        file = open(filename, mode='rt', encoding='utf-8')\n",
        "        \n",
        "        # read all text\n",
        "        text = file.read()\n",
        "        file.close()\n",
        "        return text"
      ],
      "execution_count": 3,
      "outputs": []
    },
    {
      "cell_type": "code",
      "metadata": {
        "id": "32zAppQzDeJD"
      },
      "source": [
        "# split a text into sentences\n",
        "def to_lines(text):\n",
        "      sents = text.strip().split('\\n')\n",
        "      sents = [i.split('\\t') for i in sents]\n",
        "      return sents"
      ],
      "execution_count": 4,
      "outputs": []
    },
    {
      "cell_type": "code",
      "metadata": {
        "id": "aaFvKc9nDgid"
      },
      "source": [
        "data = read_text(\"/content/drive/MyDrive/Colab Notebooks/TUKL summer internship/week1/deu.txt\")\n",
        "deu_eng = to_lines(data)\n",
        "deu_eng = array(deu_eng)"
      ],
      "execution_count": 5,
      "outputs": []
    },
    {
      "cell_type": "code",
      "metadata": {
        "id": "-1SSw830DjtB"
      },
      "source": [
        "deu_eng = deu_eng[:50000,:]"
      ],
      "execution_count": 6,
      "outputs": []
    },
    {
      "cell_type": "code",
      "metadata": {
        "colab": {
          "base_uri": "https://localhost:8080/"
        },
        "id": "3N6xPqTQDoq4",
        "outputId": "42820d56-0a2f-4e90-b6f3-66f2acf44646"
      },
      "source": [
        "deu_eng"
      ],
      "execution_count": 7,
      "outputs": [
        {
          "output_type": "execute_result",
          "data": {
            "text/plain": [
              "array([['Go.', 'Geh.',\n",
              "        'CC-BY 2.0 (France) Attribution: tatoeba.org #2877272 (CM) & #8597805 (Roujin)'],\n",
              "       ['Hi.', 'Hallo!',\n",
              "        'CC-BY 2.0 (France) Attribution: tatoeba.org #538123 (CM) & #380701 (cburgmer)'],\n",
              "       ['Hi.', 'Grüß Gott!',\n",
              "        'CC-BY 2.0 (France) Attribution: tatoeba.org #538123 (CM) & #659813 (Esperantostern)'],\n",
              "       ...,\n",
              "       ['We took a wrong turn.', 'Wir sind falsch abgebogen.',\n",
              "        'CC-BY 2.0 (France) Attribution: tatoeba.org #823901 (jellorage) & #2112094 (freddy1)'],\n",
              "       ['We traveled together.', 'Wir waren zusammen auf Reisen.',\n",
              "        'CC-BY 2.0 (France) Attribution: tatoeba.org #1582121 (Spamster) & #1600396 (Pfirsichbaeumchen)'],\n",
              "       ['We traveled together.', 'Wir sind zusammen gereist.',\n",
              "        'CC-BY 2.0 (France) Attribution: tatoeba.org #1582121 (Spamster) & #1600398 (Pfirsichbaeumchen)']],\n",
              "      dtype='<U537')"
            ]
          },
          "metadata": {
            "tags": []
          },
          "execution_count": 7
        }
      ]
    },
    {
      "cell_type": "code",
      "metadata": {
        "colab": {
          "base_uri": "https://localhost:8080/"
        },
        "id": "GZv9t8cKDtQo",
        "outputId": "0f3a7977-f863-4d03-f181-e2eb1d3bee2c"
      },
      "source": [
        "# Remove punctuation\n",
        "deu_eng[:,0] = [s.translate(str.maketrans('', '', string.punctuation)) for s in deu_eng[:,0]]\n",
        "deu_eng[:,1] = [s.translate(str.maketrans('', '', string.punctuation)) for s in deu_eng[:,1]]\n",
        "\n",
        "deu_eng"
      ],
      "execution_count": 8,
      "outputs": [
        {
          "output_type": "execute_result",
          "data": {
            "text/plain": [
              "array([['Go', 'Geh',\n",
              "        'CC-BY 2.0 (France) Attribution: tatoeba.org #2877272 (CM) & #8597805 (Roujin)'],\n",
              "       ['Hi', 'Hallo',\n",
              "        'CC-BY 2.0 (France) Attribution: tatoeba.org #538123 (CM) & #380701 (cburgmer)'],\n",
              "       ['Hi', 'Grüß Gott',\n",
              "        'CC-BY 2.0 (France) Attribution: tatoeba.org #538123 (CM) & #659813 (Esperantostern)'],\n",
              "       ...,\n",
              "       ['We took a wrong turn', 'Wir sind falsch abgebogen',\n",
              "        'CC-BY 2.0 (France) Attribution: tatoeba.org #823901 (jellorage) & #2112094 (freddy1)'],\n",
              "       ['We traveled together', 'Wir waren zusammen auf Reisen',\n",
              "        'CC-BY 2.0 (France) Attribution: tatoeba.org #1582121 (Spamster) & #1600396 (Pfirsichbaeumchen)'],\n",
              "       ['We traveled together', 'Wir sind zusammen gereist',\n",
              "        'CC-BY 2.0 (France) Attribution: tatoeba.org #1582121 (Spamster) & #1600398 (Pfirsichbaeumchen)']],\n",
              "      dtype='<U537')"
            ]
          },
          "metadata": {
            "tags": []
          },
          "execution_count": 8
        }
      ]
    },
    {
      "cell_type": "code",
      "metadata": {
        "colab": {
          "base_uri": "https://localhost:8080/"
        },
        "id": "Vy97PN0QDwlJ",
        "outputId": "fc338bea-0397-4fdf-e037-6712bb5b80c5"
      },
      "source": [
        "# convert text to lowercase\n",
        "for i in range(len(deu_eng)):\n",
        "    deu_eng[i,0] = deu_eng[i,0].lower()\n",
        "    deu_eng[i,1] = deu_eng[i,1].lower()\n",
        "\n",
        "deu_eng"
      ],
      "execution_count": 9,
      "outputs": [
        {
          "output_type": "execute_result",
          "data": {
            "text/plain": [
              "array([['go', 'geh',\n",
              "        'CC-BY 2.0 (France) Attribution: tatoeba.org #2877272 (CM) & #8597805 (Roujin)'],\n",
              "       ['hi', 'hallo',\n",
              "        'CC-BY 2.0 (France) Attribution: tatoeba.org #538123 (CM) & #380701 (cburgmer)'],\n",
              "       ['hi', 'grüß gott',\n",
              "        'CC-BY 2.0 (France) Attribution: tatoeba.org #538123 (CM) & #659813 (Esperantostern)'],\n",
              "       ...,\n",
              "       ['we took a wrong turn', 'wir sind falsch abgebogen',\n",
              "        'CC-BY 2.0 (France) Attribution: tatoeba.org #823901 (jellorage) & #2112094 (freddy1)'],\n",
              "       ['we traveled together', 'wir waren zusammen auf reisen',\n",
              "        'CC-BY 2.0 (France) Attribution: tatoeba.org #1582121 (Spamster) & #1600396 (Pfirsichbaeumchen)'],\n",
              "       ['we traveled together', 'wir sind zusammen gereist',\n",
              "        'CC-BY 2.0 (France) Attribution: tatoeba.org #1582121 (Spamster) & #1600398 (Pfirsichbaeumchen)']],\n",
              "      dtype='<U537')"
            ]
          },
          "metadata": {
            "tags": []
          },
          "execution_count": 9
        }
      ]
    },
    {
      "cell_type": "code",
      "metadata": {
        "colab": {
          "base_uri": "https://localhost:8080/",
          "height": 281
        },
        "id": "sK-fn4KoDzwl",
        "outputId": "2fa31d17-271c-4758-b5ad-3258ac4ffb8f"
      },
      "source": [
        "# empty lists\n",
        "eng_l = []\n",
        "deu_l = []\n",
        "\n",
        "# populate the lists with sentence lengths\n",
        "for i in deu_eng[:,0]:\n",
        "      eng_l.append(len(i.split()))\n",
        "\n",
        "for i in deu_eng[:,1]:\n",
        "      deu_l.append(len(i.split()))\n",
        "\n",
        "length_df = pd.DataFrame({'eng':eng_l, 'deu':deu_l})\n",
        "\n",
        "length_df.hist(bins = 30)\n",
        "plt.show()"
      ],
      "execution_count": 10,
      "outputs": [
        {
          "output_type": "display_data",
          "data": {
            "image/png": "[encoded data removed]",
            "text/plain": [
              "<Figure size 432x288 with 2 Axes>"
            ]
          },
          "metadata": {
            "tags": [],
            "needs_background": "light"
          }
        }
      ]
    },
    {
      "cell_type": "code",
      "metadata": {
        "id": "5rPzFIZuD3OA"
      },
      "source": [
        "# function to build a tokenizer\n",
        "def tokenization(lines):\n",
        "      tokenizer = Tokenizer()\n",
        "      tokenizer.fit_on_texts(lines)\n",
        "      return tokenizer"
      ],
      "execution_count": 11,
      "outputs": []
    },
    {
      "cell_type": "code",
      "metadata": {
        "colab": {
          "base_uri": "https://localhost:8080/"
        },
        "id": "9PxWuD4iD5av",
        "outputId": "3ce38d1f-d5f0-427f-8fa1-a6ec14d0e899"
      },
      "source": [
        "# prepare english tokenizer\n",
        "eng_tokenizer = tokenization(deu_eng[:, 0])\n",
        "eng_vocab_size = len(eng_tokenizer.word_index) + 1\n",
        "\n",
        "eng_length = 8\n",
        "print('English Vocabulary Size: %d' % eng_vocab_size)"
      ],
      "execution_count": 12,
      "outputs": [
        {
          "output_type": "stream",
          "text": [
            "English Vocabulary Size: 6152\n"
          ],
          "name": "stdout"
        }
      ]
    },
    {
      "cell_type": "code",
      "metadata": {
        "colab": {
          "base_uri": "https://localhost:8080/"
        },
        "id": "EimMN-gRD7bw",
        "outputId": "f6860655-62e8-423d-f7a5-19f533f8fa3f"
      },
      "source": [
        "# prepare Deutch tokenizer\n",
        "deu_tokenizer = tokenization(deu_eng[:, 1])\n",
        "deu_vocab_size = len(deu_tokenizer.word_index) + 1\n",
        "\n",
        "deu_length = 8\n",
        "print('Deutch Vocabulary Size: %d' % deu_vocab_size)"
      ],
      "execution_count": 13,
      "outputs": [
        {
          "output_type": "stream",
          "text": [
            "Deutch Vocabulary Size: 10112\n"
          ],
          "name": "stdout"
        }
      ]
    },
    {
      "cell_type": "code",
      "metadata": {
        "id": "hRZ8qaxED-6e"
      },
      "source": [
        "# encode and pad sequences\n",
        "def encode_sequences(tokenizer, length, lines):\n",
        "         # integer encode sequences\n",
        "         seq = tokenizer.texts_to_sequences(lines)\n",
        "         # pad sequences with 0 values\n",
        "         seq = pad_sequences(seq, maxlen=length, padding='post')\n",
        "         return seq"
      ],
      "execution_count": 14,
      "outputs": []
    },
    {
      "cell_type": "code",
      "metadata": {
        "id": "VaLAhlQsEAkZ"
      },
      "source": [
        "from sklearn.model_selection import train_test_split\n",
        "\n",
        "# split data into train and test set\n",
        "train, test = train_test_split(deu_eng, test_size=0.2, random_state = 12)"
      ],
      "execution_count": 15,
      "outputs": []
    },
    {
      "cell_type": "code",
      "metadata": {
        "id": "qAOsTXRbECdn"
      },
      "source": [
        "# prepare training data\n",
        "trainX = encode_sequences(deu_tokenizer, deu_length, train[:, 1])\n",
        "trainY = encode_sequences(eng_tokenizer, eng_length, train[:, 0])\n",
        "\n",
        "# prepare validation data\n",
        "testX = encode_sequences(deu_tokenizer, deu_length, test[:, 1])\n",
        "testY = encode_sequences(eng_tokenizer, eng_length, test[:, 0])"
      ],
      "execution_count": 16,
      "outputs": []
    },
    {
      "cell_type": "code",
      "metadata": {
        "id": "DpfhECNKEECe"
      },
      "source": [
        "# build NMT model\n",
        "def define_model(in_vocab,out_vocab, in_timesteps,out_timesteps,units):\n",
        "      model = Sequential()\n",
        "      model.add(Embedding(in_vocab, units, input_length=in_timesteps, mask_zero=True))\n",
        "      model.add(LSTM(units))\n",
        "      model.add(RepeatVector(out_timesteps))\n",
        "      model.add(LSTM(units, return_sequences=True))\n",
        "      model.add(Dense(out_vocab, activation='softmax'))\n",
        "      return model"
      ],
      "execution_count": 17,
      "outputs": []
    },
    {
      "cell_type": "code",
      "metadata": {
        "id": "FM-1JxpgEF-w"
      },
      "source": [
        "# model compilation\n",
        "model = define_model(deu_vocab_size, eng_vocab_size, deu_length, eng_length, 512)"
      ],
      "execution_count": 18,
      "outputs": []
    },
    {
      "cell_type": "code",
      "metadata": {
        "colab": {
          "base_uri": "https://localhost:8080/"
        },
        "id": "zB4VXD35EISV",
        "outputId": "b12328fd-8c06-453c-fa4f-f1b494b2d449"
      },
      "source": [
        "rms = optimizers.RMSprop(lr=0.001)\n",
        "model.compile(optimizer=rms, loss='sparse_categorical_crossentropy',metrics=['accuracy'])"
      ],
      "execution_count": 19,
      "outputs": [
        {
          "output_type": "stream",
          "text": [
            "/usr/local/lib/python3.7/dist-packages/tensorflow/python/keras/optimizer_v2/optimizer_v2.py:375: UserWarning: The `lr` argument is deprecated, use `learning_rate` instead.\n",
            "  \"The `lr` argument is deprecated, use `learning_rate` instead.\")\n"
          ],
          "name": "stderr"
        }
      ]
    },
    {
      "cell_type": "code",
      "metadata": {
        "colab": {
          "base_uri": "https://localhost:8080/"
        },
        "id": "oghqwX5NEKAl",
        "outputId": "b9f2a5c9-3263-4fa3-c5a4-62fb46a71a87"
      },
      "source": [
        "history = model.fit(trainX, trainY.reshape(trainY.shape[0], trainY.shape[1], 1),\n",
        "                    epochs=30, batch_size=512, validation_split = 0.2, \n",
        "                    verbose=1)"
      ],
      "execution_count": 20,
      "outputs": [
        {
          "output_type": "stream",
          "text": [
            "Epoch 1/30\n",
            "63/63 [==============================] - 33s 178ms/step - loss: 4.3161 - acc: 0.5142 - val_loss: 2.7858 - val_acc: 0.5755\n",
            "Epoch 2/30\n",
            "63/63 [==============================] - 9s 138ms/step - loss: 2.7209 - acc: 0.5814 - val_loss: 2.6904 - val_acc: 0.5830\n",
            "Epoch 3/30\n",
            "63/63 [==============================] - 9s 139ms/step - loss: 2.5821 - acc: 0.5925 - val_loss: 2.5246 - val_acc: 0.6093\n",
            "Epoch 4/30\n",
            "63/63 [==============================] - 9s 137ms/step - loss: 2.3968 - acc: 0.6173 - val_loss: 2.3899 - val_acc: 0.6249\n",
            "Epoch 5/30\n",
            "63/63 [==============================] - 9s 137ms/step - loss: 2.2374 - acc: 0.6325 - val_loss: 2.2501 - val_acc: 0.6413\n",
            "Epoch 6/30\n",
            "63/63 [==============================] - 9s 137ms/step - loss: 2.0908 - acc: 0.6506 - val_loss: 2.1499 - val_acc: 0.6562\n",
            "Epoch 7/30\n",
            "63/63 [==============================] - 9s 137ms/step - loss: 1.9569 - acc: 0.6641 - val_loss: 2.0538 - val_acc: 0.6671\n",
            "Epoch 8/30\n",
            "63/63 [==============================] - 9s 138ms/step - loss: 1.8471 - acc: 0.6783 - val_loss: 1.9853 - val_acc: 0.6762\n",
            "Epoch 9/30\n",
            "63/63 [==============================] - 9s 137ms/step - loss: 1.7276 - acc: 0.6916 - val_loss: 1.9016 - val_acc: 0.6879\n",
            "Epoch 10/30\n",
            "63/63 [==============================] - 9s 138ms/step - loss: 1.6346 - acc: 0.7027 - val_loss: 1.8339 - val_acc: 0.6969\n",
            "Epoch 11/30\n",
            "63/63 [==============================] - 9s 137ms/step - loss: 1.5360 - acc: 0.7149 - val_loss: 1.7660 - val_acc: 0.7075\n",
            "Epoch 12/30\n",
            "63/63 [==============================] - 9s 137ms/step - loss: 1.4386 - acc: 0.7267 - val_loss: 1.7115 - val_acc: 0.7167\n",
            "Epoch 13/30\n",
            "63/63 [==============================] - 9s 137ms/step - loss: 1.3498 - acc: 0.7368 - val_loss: 1.6941 - val_acc: 0.7200\n",
            "Epoch 14/30\n",
            "63/63 [==============================] - 9s 138ms/step - loss: 1.2626 - acc: 0.7471 - val_loss: 1.6110 - val_acc: 0.7288\n",
            "Epoch 15/30\n",
            "63/63 [==============================] - 9s 140ms/step - loss: 1.1861 - acc: 0.7571 - val_loss: 1.5591 - val_acc: 0.7362\n",
            "Epoch 16/30\n",
            "63/63 [==============================] - 9s 139ms/step - loss: 1.0955 - acc: 0.7702 - val_loss: 1.5247 - val_acc: 0.7417\n",
            "Epoch 17/30\n",
            "63/63 [==============================] - 9s 137ms/step - loss: 1.0292 - acc: 0.7806 - val_loss: 1.4950 - val_acc: 0.7427\n",
            "Epoch 18/30\n",
            "63/63 [==============================] - 9s 138ms/step - loss: 0.9567 - acc: 0.7920 - val_loss: 1.4453 - val_acc: 0.7509\n",
            "Epoch 19/30\n",
            "63/63 [==============================] - 9s 137ms/step - loss: 0.8937 - acc: 0.8029 - val_loss: 1.4251 - val_acc: 0.7524\n",
            "Epoch 20/30\n",
            "63/63 [==============================] - 9s 137ms/step - loss: 0.8363 - acc: 0.8126 - val_loss: 1.3898 - val_acc: 0.7589\n",
            "Epoch 21/30\n",
            "63/63 [==============================] - 9s 137ms/step - loss: 0.7665 - acc: 0.8266 - val_loss: 1.3695 - val_acc: 0.7630\n",
            "Epoch 22/30\n",
            "63/63 [==============================] - 9s 138ms/step - loss: 0.7079 - acc: 0.8382 - val_loss: 1.3387 - val_acc: 0.7686\n",
            "Epoch 23/30\n",
            "63/63 [==============================] - 9s 138ms/step - loss: 0.6512 - acc: 0.8492 - val_loss: 1.3313 - val_acc: 0.7711\n",
            "Epoch 24/30\n",
            "63/63 [==============================] - 9s 137ms/step - loss: 0.6114 - acc: 0.8570 - val_loss: 1.3072 - val_acc: 0.7721\n",
            "Epoch 25/30\n",
            "63/63 [==============================] - 9s 138ms/step - loss: 0.5571 - acc: 0.8697 - val_loss: 1.2872 - val_acc: 0.7762\n",
            "Epoch 26/30\n",
            "63/63 [==============================] - 9s 137ms/step - loss: 0.5151 - acc: 0.8781 - val_loss: 1.2826 - val_acc: 0.7765\n",
            "Epoch 27/30\n",
            "63/63 [==============================] - 9s 139ms/step - loss: 0.4704 - acc: 0.8899 - val_loss: 1.2702 - val_acc: 0.7799\n",
            "Epoch 28/30\n",
            "63/63 [==============================] - 9s 138ms/step - loss: 0.4269 - acc: 0.8996 - val_loss: 1.2699 - val_acc: 0.7822\n",
            "Epoch 29/30\n",
            "63/63 [==============================] - 9s 140ms/step - loss: 0.3911 - acc: 0.9080 - val_loss: 1.2865 - val_acc: 0.7822\n",
            "Epoch 30/30\n",
            "63/63 [==============================] - 9s 138ms/step - loss: 0.3586 - acc: 0.9161 - val_loss: 1.2563 - val_acc: 0.7835\n"
          ],
          "name": "stdout"
        }
      ]
    },
    {
      "cell_type": "code",
      "metadata": {
        "colab": {
          "base_uri": "https://localhost:8080/",
          "height": 269
        },
        "id": "LCOxzAorEQgj",
        "outputId": "51bce671-1c83-4cba-8bfc-239bea26a165"
      },
      "source": [
        "plt.plot(history.history['loss'])\n",
        "plt.plot(history.history['val_loss'])\n",
        "plt.legend(['train','validation'])\n",
        "plt.show()"
      ],
      "execution_count": 21,
      "outputs": [
        {
          "output_type": "display_data",
          "data": {
            "image/png": "[encoded data removed]",
            "text/plain": [
              "<Figure size 432x288 with 1 Axes>"
            ]
          },
          "metadata": {
            "tags": [],
            "needs_background": "light"
          }
        }
      ]
    },
    {
      "cell_type": "code",
      "metadata": {
        "colab": {
          "base_uri": "https://localhost:8080/"
        },
        "id": "U1N2lVkmE0eo",
        "outputId": "f360a2ac-4916-485b-f9a1-070e08e852fb"
      },
      "source": [
        "preds = model.predict_classes(testX.reshape((testX.shape[0],testX.shape[1])))"
      ],
      "execution_count": 22,
      "outputs": [
        {
          "output_type": "stream",
          "text": [
            "/usr/local/lib/python3.7/dist-packages/keras/engine/sequential.py:450: UserWarning: `model.predict_classes()` is deprecated and will be removed after 2021-01-01. Please use instead:* `np.argmax(model.predict(x), axis=-1)`,   if your model does multi-class classification   (e.g. if it uses a `softmax` last-layer activation).* `(model.predict(x) > 0.5).astype(\"int32\")`,   if your model does binary classification   (e.g. if it uses a `sigmoid` last-layer activation).\n",
            "  warnings.warn('`model.predict_classes()` is deprecated and '\n"
          ],
          "name": "stderr"
        }
      ]
    },
    {
      "cell_type": "code",
      "metadata": {
        "id": "CDv2Z_ZPE1YC"
      },
      "source": [
        "def get_word(n, tokenizer):\n",
        "      for word, index in tokenizer.word_index.items():\n",
        "          if index == n:\n",
        "              return word\n",
        "      return None"
      ],
      "execution_count": 23,
      "outputs": []
    },
    {
      "cell_type": "code",
      "metadata": {
        "id": "YFkUhF8yE3Fm"
      },
      "source": [
        "preds_text = []\n",
        "for i in preds:\n",
        "       temp = []\n",
        "       for j in range(len(i)):\n",
        "            t = get_word(i[j], eng_tokenizer)\n",
        "            if j > 0:\n",
        "                if (t == get_word(i[j-1], eng_tokenizer)) or (t == None):\n",
        "                     temp.append('')\n",
        "                else:\n",
        "                     temp.append(t)\n",
        "            else:\n",
        "                   if(t == None):\n",
        "                          temp.append('')\n",
        "                   else:\n",
        "                          temp.append(t) \n",
        "\n",
        "       preds_text.append(' '.join(temp))"
      ],
      "execution_count": 24,
      "outputs": []
    },
    {
      "cell_type": "code",
      "metadata": {
        "id": "ZHiDUkdZE5bf"
      },
      "source": [
        "pred_df = pd.DataFrame({'actual' : test[:,0], 'predicted' : preds_text})"
      ],
      "execution_count": 25,
      "outputs": []
    },
    {
      "cell_type": "code",
      "metadata": {
        "colab": {
          "base_uri": "https://localhost:8080/",
          "height": 514
        },
        "id": "Csvl-ynAE8QD",
        "outputId": "2ea2faaa-1a0d-476b-c72b-e6176d214b14"
      },
      "source": [
        "# print 15 rows randomly\n",
        "pred_df.sample(15)"
      ],
      "execution_count": 26,
      "outputs": [
        {
          "output_type": "execute_result",
          "data": {
            "text/html": [
              "<div>\n",
              "<style scoped>\n",
              "    .dataframe tbody tr th:only-of-type {\n",
              "        vertical-align: middle;\n",
              "    }\n",
              "\n",
              "    .dataframe tbody tr th {\n",
              "        vertical-align: top;\n",
              "    }\n",
              "\n",
              "    .dataframe thead th {\n",
              "        text-align: right;\n",
              "    }\n",
              "</style>\n",
              "<table border=\"1\" class=\"dataframe\">\n",
              "  <thead>\n",
              "    <tr style=\"text-align: right;\">\n",
              "      <th></th>\n",
              "      <th>actual</th>\n",
              "      <th>predicted</th>\n",
              "    </tr>\n",
              "  </thead>\n",
              "  <tbody>\n",
              "    <tr>\n",
              "      <th>3876</th>\n",
              "      <td>why are we poor</td>\n",
              "      <td>why are we poor</td>\n",
              "    </tr>\n",
              "    <tr>\n",
              "      <th>5586</th>\n",
              "      <td>the choice is yours</td>\n",
              "      <td>its to</td>\n",
              "    </tr>\n",
              "    <tr>\n",
              "      <th>7506</th>\n",
              "      <td>tom seems insincere</td>\n",
              "      <td>tom seems upset</td>\n",
              "    </tr>\n",
              "    <tr>\n",
              "      <th>8754</th>\n",
              "      <td>lets look upstairs</td>\n",
              "      <td>be looking</td>\n",
              "    </tr>\n",
              "    <tr>\n",
              "      <th>6338</th>\n",
              "      <td>tom looks tired</td>\n",
              "      <td>tom looks tired</td>\n",
              "    </tr>\n",
              "    <tr>\n",
              "      <th>5678</th>\n",
              "      <td>the kids are asleep</td>\n",
              "      <td>the kids books</td>\n",
              "    </tr>\n",
              "    <tr>\n",
              "      <th>2127</th>\n",
              "      <td>everybody cheered</td>\n",
              "      <td>everybody applauded</td>\n",
              "    </tr>\n",
              "    <tr>\n",
              "      <th>6862</th>\n",
              "      <td>i dont have a radio</td>\n",
              "      <td>i have no a</td>\n",
              "    </tr>\n",
              "    <tr>\n",
              "      <th>5933</th>\n",
              "      <td>can i pay later</td>\n",
              "      <td>can i take you</td>\n",
              "    </tr>\n",
              "    <tr>\n",
              "      <th>4375</th>\n",
              "      <td>i was aware of that</td>\n",
              "      <td>i saw that</td>\n",
              "    </tr>\n",
              "    <tr>\n",
              "      <th>4985</th>\n",
              "      <td>get out your wallet</td>\n",
              "      <td>get out of drink</td>\n",
              "    </tr>\n",
              "    <tr>\n",
              "      <th>6688</th>\n",
              "      <td>lets go home tom</td>\n",
              "      <td>lets go  tom</td>\n",
              "    </tr>\n",
              "    <tr>\n",
              "      <th>7356</th>\n",
              "      <td>tom is in the van</td>\n",
              "      <td>tom is in jail</td>\n",
              "    </tr>\n",
              "    <tr>\n",
              "      <th>930</th>\n",
              "      <td>tom was very popular</td>\n",
              "      <td>tom was very popular</td>\n",
              "    </tr>\n",
              "    <tr>\n",
              "      <th>4194</th>\n",
              "      <td>watch us</td>\n",
              "      <td>watch ahead</td>\n",
              "    </tr>\n",
              "  </tbody>\n",
              "</table>\n",
              "</div>"
            ],
            "text/plain": [
              "                    actual                  predicted\n",
              "3876       why are we poor        why are we poor    \n",
              "5586   the choice is yours               its to      \n",
              "7506   tom seems insincere       tom seems upset     \n",
              "8754    lets look upstairs           be looking      \n",
              "6338       tom looks tired       tom looks tired     \n",
              "5678   the kids are asleep        the kids books     \n",
              "2127     everybody cheered  everybody applauded      \n",
              "6862   i dont have a radio            i have no a    \n",
              "5933       can i pay later         can i take you    \n",
              "4375   i was aware of that            i saw that     \n",
              "4985   get out your wallet       get out of drink    \n",
              "6688      lets go home tom           lets go  tom    \n",
              "7356     tom is in the van         tom is in jail    \n",
              "930   tom was very popular   tom was very popular    \n",
              "4194              watch us          watch ahead      "
            ]
          },
          "metadata": {
            "tags": []
          },
          "execution_count": 26
        }
      ]
    },
    {
      "cell_type": "code",
      "metadata": {
        "id": "nrSdv7mTE9p5"
      },
      "source": [
        ""
      ],
      "execution_count": 26,
      "outputs": []
    }
  ]
}