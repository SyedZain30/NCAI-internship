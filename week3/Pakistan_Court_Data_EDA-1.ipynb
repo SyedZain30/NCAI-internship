{
  "nbformat": 4,
  "nbformat_minor": 0,
  "metadata": {
    "kernelspec": {
      "display_name": "Python 3",
      "language": "python",
      "name": "python3"
    },
    "language_info": {
      "codemirror_mode": {
        "name": "ipython",
        "version": 3
      },
      "file_extension": ".py",
      "mimetype": "text/x-python",
      "name": "python",
      "nbconvert_exporter": "python",
      "pygments_lexer": "ipython3",
      "version": "3.7.4"
    },
    "colab": {
      "name": "Pakistan Court Data EDA.ipynb",
      "provenance": []
    }
  },
  "cells": [
    {
      "cell_type": "markdown",
      "metadata": {
        "id": "qwO09QUsb5Ck"
      },
      "source": [
        "# Pakistani Dataset Legal Recommendation System EDA"
      ]
    },
    {
      "cell_type": "code",
      "metadata": {
        "id": "XAjQGw8Jb5Cp"
      },
      "source": [
        "import numpy as np\n",
        "import pandas as pd\n",
        "import sklearn.preprocessing \n",
        "import matplotlib.pyplot as plt\n",
        "import seaborn as sns\n",
        "%matplotlib inline\n",
        "import string\n",
        "import nltk\n",
        "from nltk.corpus import stopwords\n",
        "from textblob import Word\n",
        "from sklearn.preprocessing import LabelEncoder\n",
        "from collections import Counter\n",
        "import wordcloud\n",
        "from sklearn.metrics import classification_report,confusion_matrix,accuracy_score\n",
        "from keras.models import Sequential\n",
        "from keras.preprocessing.text import Tokenizer\n",
        "from keras.preprocessing.sequence import pad_sequences\n",
        "from keras.layers import Dense, Embedding, LSTM, SpatialDropout1D\n",
        "from sklearn.model_selection import train_test_split \n",
        "from keras.utils import np_utils\n",
        "from keras.layers.convolutional import Conv1D\n",
        "from keras.layers.convolutional import MaxPooling1D\n",
        "sns.set()"
      ],
      "execution_count": null,
      "outputs": []
    },
    {
      "cell_type": "code",
      "metadata": {
        "colab": {
          "base_uri": "https://localhost:8080/"
        },
        "id": "YlzLzigxcEVb",
        "outputId": "ce825e2f-7156-4098-900d-93776532f2fc"
      },
      "source": [
        "from google.colab import drive\n",
        "drive.mount('/content/drive')"
      ],
      "execution_count": null,
      "outputs": [
        {
          "output_type": "stream",
          "text": [
            "Drive already mounted at /content/drive; to attempt to forcibly remount, call drive.mount(\"/content/drive\", force_remount=True).\n"
          ],
          "name": "stdout"
        }
      ]
    },
    {
      "cell_type": "code",
      "metadata": {
        "id": "oo7xvNL4cVpD"
      },
      "source": [
        "df=pd.read_csv('/content/drive/MyDrive/Colab Notebooks/TUKL summer internship/week 2/Supreme Court Data 5.csv')"
      ],
      "execution_count": null,
      "outputs": []
    },
    {
      "cell_type": "code",
      "metadata": {
        "colab": {
          "base_uri": "https://localhost:8080/",
          "height": 204
        },
        "id": "peHZTikjb5Cs",
        "outputId": "d9b51302-8e77-48ab-9451-2f0424ef0bb9"
      },
      "source": [
        "df.head()"
      ],
      "execution_count": null,
      "outputs": [
        {
          "output_type": "execute_result",
          "data": {
            "text/html": [
              "<div>\n",
              "<style scoped>\n",
              "    .dataframe tbody tr th:only-of-type {\n",
              "        vertical-align: middle;\n",
              "    }\n",
              "\n",
              "    .dataframe tbody tr th {\n",
              "        vertical-align: top;\n",
              "    }\n",
              "\n",
              "    .dataframe thead th {\n",
              "        text-align: right;\n",
              "    }\n",
              "</style>\n",
              "<table border=\"1\" class=\"dataframe\">\n",
              "  <thead>\n",
              "    <tr style=\"text-align: right;\">\n",
              "      <th></th>\n",
              "      <th>Case Files</th>\n",
              "      <th>Label</th>\n",
              "      <th>Category</th>\n",
              "    </tr>\n",
              "  </thead>\n",
              "  <tbody>\n",
              "    <tr>\n",
              "      <th>0</th>\n",
              "      <td>2017 P T D 1481\\n[Supreme Court of Pakistan]\\n...</td>\n",
              "      <td>Non-Bailable</td>\n",
              "      <td>Against Federation</td>\n",
              "    </tr>\n",
              "    <tr>\n",
              "      <th>1</th>\n",
              "      <td>2015 S C M R 365\\n[Supreme Court of Pakistan]\\...</td>\n",
              "      <td>Bailable</td>\n",
              "      <td>illegal appointments</td>\n",
              "    </tr>\n",
              "    <tr>\n",
              "      <th>2</th>\n",
              "      <td>2016 S C M R 1420\\n[Supreme Court of Pakistan]...</td>\n",
              "      <td>Bailable</td>\n",
              "      <td>Theft/Fraud</td>\n",
              "    </tr>\n",
              "    <tr>\n",
              "      <th>3</th>\n",
              "      <td>2016 S C M R 662\\n[Supreme Court of Pakistan]\\...</td>\n",
              "      <td>Bailable</td>\n",
              "      <td>Theft/Fraud</td>\n",
              "    </tr>\n",
              "    <tr>\n",
              "      <th>4</th>\n",
              "      <td>P L D 2012 Supreme Court 649\\nPresent: Mian Sh...</td>\n",
              "      <td>Bailable</td>\n",
              "      <td>illegal appointments</td>\n",
              "    </tr>\n",
              "  </tbody>\n",
              "</table>\n",
              "</div>"
            ],
            "text/plain": [
              "                                          Case Files  ...              Category\n",
              "0  2017 P T D 1481\\n[Supreme Court of Pakistan]\\n...  ...    Against Federation\n",
              "1  2015 S C M R 365\\n[Supreme Court of Pakistan]\\...  ...  illegal appointments\n",
              "2  2016 S C M R 1420\\n[Supreme Court of Pakistan]...  ...           Theft/Fraud\n",
              "3  2016 S C M R 662\\n[Supreme Court of Pakistan]\\...  ...           Theft/Fraud\n",
              "4  P L D 2012 Supreme Court 649\\nPresent: Mian Sh...  ...  illegal appointments\n",
              "\n",
              "[5 rows x 3 columns]"
            ]
          },
          "metadata": {
            "tags": []
          },
          "execution_count": 4
        }
      ]
    },
    {
      "cell_type": "code",
      "metadata": {
        "colab": {
          "base_uri": "https://localhost:8080/"
        },
        "id": "6Wq_HRXTb5Cu",
        "outputId": "5e358679-92e1-41df-976c-c4f07362928d"
      },
      "source": [
        "df['Label'].value_counts()"
      ],
      "execution_count": null,
      "outputs": [
        {
          "output_type": "execute_result",
          "data": {
            "text/plain": [
              "Bailable        43\n",
              "Non-Bailable    23\n",
              "Name: Label, dtype: int64"
            ]
          },
          "metadata": {
            "tags": []
          },
          "execution_count": 5
        }
      ]
    },
    {
      "cell_type": "code",
      "metadata": {
        "colab": {
          "base_uri": "https://localhost:8080/"
        },
        "id": "O-MaCiFnb5Cv",
        "outputId": "c3096742-41d6-4e53-974a-7eeb43d4e296"
      },
      "source": [
        "df['Category'].value_counts()"
      ],
      "execution_count": null,
      "outputs": [
        {
          "output_type": "execute_result",
          "data": {
            "text/plain": [
              "illegal appointments     24\n",
              "Crime                    14\n",
              "Theft/Fraud              11\n",
              "Tax evasion               7\n",
              "Against Federation        5\n",
              "Islamic Law Violation     4\n",
              "Theft/fraud               1\n",
              "Name: Category, dtype: int64"
            ]
          },
          "metadata": {
            "tags": []
          },
          "execution_count": 6
        }
      ]
    },
    {
      "cell_type": "code",
      "metadata": {
        "colab": {
          "base_uri": "https://localhost:8080/"
        },
        "id": "3T5Ol-blb5Cx",
        "outputId": "f19db246-e214-45d2-bb29-2349b8d4e225"
      },
      "source": [
        "df.dtypes"
      ],
      "execution_count": null,
      "outputs": [
        {
          "output_type": "execute_result",
          "data": {
            "text/plain": [
              "Case Files    object\n",
              "Label         object\n",
              "Category      object\n",
              "dtype: object"
            ]
          },
          "metadata": {
            "tags": []
          },
          "execution_count": 7
        }
      ]
    },
    {
      "cell_type": "code",
      "metadata": {
        "colab": {
          "base_uri": "https://localhost:8080/"
        },
        "id": "GiacBRNMb5Cy",
        "outputId": "812f4c03-a85f-45c9-bdc4-44e31c75de45"
      },
      "source": [
        "df.shape"
      ],
      "execution_count": null,
      "outputs": [
        {
          "output_type": "execute_result",
          "data": {
            "text/plain": [
              "(66, 3)"
            ]
          },
          "metadata": {
            "tags": []
          },
          "execution_count": 8
        }
      ]
    },
    {
      "cell_type": "code",
      "metadata": {
        "colab": {
          "base_uri": "https://localhost:8080/",
          "height": 173
        },
        "id": "-SYRKT1Ib5C0",
        "outputId": "c51a4f6b-f06a-4164-9626-83a042ecb213"
      },
      "source": [
        "df.describe()"
      ],
      "execution_count": null,
      "outputs": [
        {
          "output_type": "execute_result",
          "data": {
            "text/html": [
              "<div>\n",
              "<style scoped>\n",
              "    .dataframe tbody tr th:only-of-type {\n",
              "        vertical-align: middle;\n",
              "    }\n",
              "\n",
              "    .dataframe tbody tr th {\n",
              "        vertical-align: top;\n",
              "    }\n",
              "\n",
              "    .dataframe thead th {\n",
              "        text-align: right;\n",
              "    }\n",
              "</style>\n",
              "<table border=\"1\" class=\"dataframe\">\n",
              "  <thead>\n",
              "    <tr style=\"text-align: right;\">\n",
              "      <th></th>\n",
              "      <th>Case Files</th>\n",
              "      <th>Label</th>\n",
              "      <th>Category</th>\n",
              "    </tr>\n",
              "  </thead>\n",
              "  <tbody>\n",
              "    <tr>\n",
              "      <th>count</th>\n",
              "      <td>66</td>\n",
              "      <td>66</td>\n",
              "      <td>66</td>\n",
              "    </tr>\n",
              "    <tr>\n",
              "      <th>unique</th>\n",
              "      <td>66</td>\n",
              "      <td>2</td>\n",
              "      <td>7</td>\n",
              "    </tr>\n",
              "    <tr>\n",
              "      <th>top</th>\n",
              "      <td>\\n2015 S C M R 1385\\n[Supreme Court of Pakist...</td>\n",
              "      <td>Bailable</td>\n",
              "      <td>illegal appointments</td>\n",
              "    </tr>\n",
              "    <tr>\n",
              "      <th>freq</th>\n",
              "      <td>1</td>\n",
              "      <td>43</td>\n",
              "      <td>24</td>\n",
              "    </tr>\n",
              "  </tbody>\n",
              "</table>\n",
              "</div>"
            ],
            "text/plain": [
              "                                               Case Files  ...              Category\n",
              "count                                                  66  ...                    66\n",
              "unique                                                 66  ...                     7\n",
              "top      \\n2015 S C M R 1385\\n[Supreme Court of Pakist...  ...  illegal appointments\n",
              "freq                                                    1  ...                    24\n",
              "\n",
              "[4 rows x 3 columns]"
            ]
          },
          "metadata": {
            "tags": []
          },
          "execution_count": 9
        }
      ]
    },
    {
      "cell_type": "code",
      "metadata": {
        "colab": {
          "base_uri": "https://localhost:8080/",
          "height": 302
        },
        "id": "e-_p5B8_b5C2",
        "outputId": "a56e3974-b6e3-4d59-c70a-62df79a016db"
      },
      "source": [
        "sns.countplot(x=\"Label\",hue=\"Label\",data=df)"
      ],
      "execution_count": null,
      "outputs": [
        {
          "output_type": "execute_result",
          "data": {
            "text/plain": [
              "<matplotlib.axes._subplots.AxesSubplot at 0x7f5c1cdff890>"
            ]
          },
          "metadata": {
            "tags": []
          },
          "execution_count": 10
        },
        {
          "output_type": "display_data",
          "data": {
            "image/png": "[encoded data removed]",
            "text/plain": [
              "<Figure size 432x288 with 1 Axes>"
            ]
          },
          "metadata": {
            "tags": [],
            "needs_background": "light"
          }
        }
      ]
    },
    {
      "cell_type": "code",
      "metadata": {
        "colab": {
          "base_uri": "https://localhost:8080/",
          "height": 518
        },
        "id": "9Q2VJD5Ab5C4",
        "outputId": "25d75e2a-e34e-43ad-d15b-805369880322"
      },
      "source": [
        "plt.figure(figsize=(15,6))\n",
        "sns.countplot(x=\"Category\",hue=\"Category\",data=df)\n",
        "plt.xticks(rotation=90)"
      ],
      "execution_count": null,
      "outputs": [
        {
          "output_type": "execute_result",
          "data": {
            "text/plain": [
              "(array([0, 1, 2, 3, 4, 5, 6]), <a list of 7 Text major ticklabel objects>)"
            ]
          },
          "metadata": {
            "tags": []
          },
          "execution_count": 11
        },
        {
          "output_type": "display_data",
          "data": {
            "image/png": "[encoded data removed]",
            "text/plain": [
              "<Figure size 1080x432 with 1 Axes>"
            ]
          },
          "metadata": {
            "tags": [],
            "needs_background": "light"
          }
        }
      ]
    },
    {
      "cell_type": "code",
      "metadata": {
        "colab": {
          "base_uri": "https://localhost:8080/",
          "height": 518
        },
        "id": "sRDpAiXtb5C5",
        "outputId": "f3678814-4d56-4d7d-c222-edee570f8f84"
      },
      "source": [
        "plt.figure(figsize=(15,6))\n",
        "sns.countplot(x=\"Category\",hue=\"Label\",data=df)\n",
        "plt.xticks(rotation=90)"
      ],
      "execution_count": null,
      "outputs": [
        {
          "output_type": "execute_result",
          "data": {
            "text/plain": [
              "(array([0, 1, 2, 3, 4, 5, 6]), <a list of 7 Text major ticklabel objects>)"
            ]
          },
          "metadata": {
            "tags": []
          },
          "execution_count": 12
        },
        {
          "output_type": "display_data",
          "data": {
            "image/png": "[encoded data removed]",
            "text/plain": [
              "<Figure size 1080x432 with 1 Axes>"
            ]
          },
          "metadata": {
            "tags": [],
            "needs_background": "light"
          }
        }
      ]
    },
    {
      "cell_type": "code",
      "metadata": {
        "id": "LdUEPPUUb5C6"
      },
      "source": [
        "PUNCT_TO_REMOVE = string.punctuation\n",
        "def remove_punctuation(text):\n",
        "    \"\"\"custom function to remove the punctuation\"\"\"\n",
        "    return text.translate(str.maketrans('', '', PUNCT_TO_REMOVE))"
      ],
      "execution_count": null,
      "outputs": []
    },
    {
      "cell_type": "code",
      "metadata": {
        "colab": {
          "base_uri": "https://localhost:8080/"
        },
        "id": "7-RXO7lAi1N2",
        "outputId": "cd8e129b-3f6e-40f3-c381-35f4732ba387"
      },
      "source": [
        "nltk.download('stopwords')\n",
        "nltk.download('wordnet')"
      ],
      "execution_count": null,
      "outputs": [
        {
          "output_type": "stream",
          "text": [
            "[nltk_data] Downloading package stopwords to /root/nltk_data...\n",
            "[nltk_data]   Package stopwords is already up-to-date!\n",
            "[nltk_data] Downloading package wordnet to /root/nltk_data...\n",
            "[nltk_data]   Package wordnet is already up-to-date!\n"
          ],
          "name": "stdout"
        },
        {
          "output_type": "execute_result",
          "data": {
            "text/plain": [
              "True"
            ]
          },
          "metadata": {
            "tags": []
          },
          "execution_count": 14
        }
      ]
    },
    {
      "cell_type": "code",
      "metadata": {
        "colab": {
          "base_uri": "https://localhost:8080/"
        },
        "id": "j4JhJM99j4La",
        "outputId": "1b2db1af-9f05-417a-8df3-c8d8967a79a9"
      },
      "source": [
        "#Check if there are any null values\n",
        "df1 = df[['Case Files','Label']]\n",
        "df1.isnull().sum()"
      ],
      "execution_count": null,
      "outputs": [
        {
          "output_type": "execute_result",
          "data": {
            "text/plain": [
              "Case Files    0\n",
              "Label         0\n",
              "dtype: int64"
            ]
          },
          "metadata": {
            "tags": []
          },
          "execution_count": 15
        }
      ]
    },
    {
      "cell_type": "code",
      "metadata": {
        "colab": {
          "base_uri": "https://localhost:8080/",
          "height": 204
        },
        "id": "NGJEz93JkIOb",
        "outputId": "03e4dc39-b00e-44a7-d020-db6499565b4b"
      },
      "source": [
        "df1.head()"
      ],
      "execution_count": null,
      "outputs": [
        {
          "output_type": "execute_result",
          "data": {
            "text/html": [
              "<div>\n",
              "<style scoped>\n",
              "    .dataframe tbody tr th:only-of-type {\n",
              "        vertical-align: middle;\n",
              "    }\n",
              "\n",
              "    .dataframe tbody tr th {\n",
              "        vertical-align: top;\n",
              "    }\n",
              "\n",
              "    .dataframe thead th {\n",
              "        text-align: right;\n",
              "    }\n",
              "</style>\n",
              "<table border=\"1\" class=\"dataframe\">\n",
              "  <thead>\n",
              "    <tr style=\"text-align: right;\">\n",
              "      <th></th>\n",
              "      <th>Case Files</th>\n",
              "      <th>Label</th>\n",
              "    </tr>\n",
              "  </thead>\n",
              "  <tbody>\n",
              "    <tr>\n",
              "      <th>0</th>\n",
              "      <td>2017 P T D 1481\\n[Supreme Court of Pakistan]\\n...</td>\n",
              "      <td>Non-Bailable</td>\n",
              "    </tr>\n",
              "    <tr>\n",
              "      <th>1</th>\n",
              "      <td>2015 S C M R 365\\n[Supreme Court of Pakistan]\\...</td>\n",
              "      <td>Bailable</td>\n",
              "    </tr>\n",
              "    <tr>\n",
              "      <th>2</th>\n",
              "      <td>2016 S C M R 1420\\n[Supreme Court of Pakistan]...</td>\n",
              "      <td>Bailable</td>\n",
              "    </tr>\n",
              "    <tr>\n",
              "      <th>3</th>\n",
              "      <td>2016 S C M R 662\\n[Supreme Court of Pakistan]\\...</td>\n",
              "      <td>Bailable</td>\n",
              "    </tr>\n",
              "    <tr>\n",
              "      <th>4</th>\n",
              "      <td>P L D 2012 Supreme Court 649\\nPresent: Mian Sh...</td>\n",
              "      <td>Bailable</td>\n",
              "    </tr>\n",
              "  </tbody>\n",
              "</table>\n",
              "</div>"
            ],
            "text/plain": [
              "                                          Case Files         Label\n",
              "0  2017 P T D 1481\\n[Supreme Court of Pakistan]\\n...  Non-Bailable\n",
              "1  2015 S C M R 365\\n[Supreme Court of Pakistan]\\...      Bailable\n",
              "2  2016 S C M R 1420\\n[Supreme Court of Pakistan]...      Bailable\n",
              "3  2016 S C M R 662\\n[Supreme Court of Pakistan]\\...      Bailable\n",
              "4  P L D 2012 Supreme Court 649\\nPresent: Mian Sh...      Bailable"
            ]
          },
          "metadata": {
            "tags": []
          },
          "execution_count": 16
        }
      ]
    },
    {
      "cell_type": "code",
      "metadata": {
        "colab": {
          "base_uri": "https://localhost:8080/"
        },
        "id": "euL1vF6vhtPy",
        "outputId": "54705791-29fa-4286-8401-979f8e071dc9"
      },
      "source": [
        "def cleaning(df, stop_words):\n",
        "\n",
        "    df['Case Files'] = df['Case Files'].apply(lambda x: ' '.join(x.lower() for x in x.split())) \n",
        "\n",
        "                               \n",
        "\n",
        "    # Replacing the digits/numbers\n",
        "\n",
        "    df['Case Files'] = df['Case Files'].str.replace('d', '')\n",
        "\n",
        "            \n",
        "\n",
        "    # Removing stop words\n",
        "\n",
        "    df['Case Files'] = df['Case Files'].apply(lambda x: ' '.join(x for x in x.split() if x not in stop_words))\n",
        "\n",
        "    #lower casing\n",
        "    df['Case Files'] = df['Case Files'].str.lower()\n",
        "\n",
        "    #punctuation removal         \n",
        "    df[\"Case Files\"] = df[\"Case Files\"].apply(lambda text: remove_punctuation(text))\n",
        "    # Lemmatization\n",
        "\n",
        "    df['Case Files'] = df['Case Files'].apply(lambda x: ' '.join([Word(x).lemmatize() for x in x.split()]))\n",
        "\n",
        "            \n",
        "\n",
        "    return df\n",
        "\n",
        "stop_words = stopwords.words('english')\n",
        "\n",
        "df1 = cleaning(df1, stop_words)\n"
      ],
      "execution_count": null,
      "outputs": [
        {
          "output_type": "stream",
          "text": [
            "/usr/local/lib/python3.7/dist-packages/ipykernel_launcher.py:3: SettingWithCopyWarning: \n",
            "A value is trying to be set on a copy of a slice from a DataFrame.\n",
            "Try using .loc[row_indexer,col_indexer] = value instead\n",
            "\n",
            "See the caveats in the documentation: https://pandas.pydata.org/pandas-docs/stable/user_guide/indexing.html#returning-a-view-versus-a-copy\n",
            "  This is separate from the ipykernel package so we can avoid doing imports until\n",
            "/usr/local/lib/python3.7/dist-packages/ipykernel_launcher.py:9: SettingWithCopyWarning: \n",
            "A value is trying to be set on a copy of a slice from a DataFrame.\n",
            "Try using .loc[row_indexer,col_indexer] = value instead\n",
            "\n",
            "See the caveats in the documentation: https://pandas.pydata.org/pandas-docs/stable/user_guide/indexing.html#returning-a-view-versus-a-copy\n",
            "  if __name__ == '__main__':\n",
            "/usr/local/lib/python3.7/dist-packages/ipykernel_launcher.py:15: SettingWithCopyWarning: \n",
            "A value is trying to be set on a copy of a slice from a DataFrame.\n",
            "Try using .loc[row_indexer,col_indexer] = value instead\n",
            "\n",
            "See the caveats in the documentation: https://pandas.pydata.org/pandas-docs/stable/user_guide/indexing.html#returning-a-view-versus-a-copy\n",
            "  from ipykernel import kernelapp as app\n",
            "/usr/local/lib/python3.7/dist-packages/ipykernel_launcher.py:18: SettingWithCopyWarning: \n",
            "A value is trying to be set on a copy of a slice from a DataFrame.\n",
            "Try using .loc[row_indexer,col_indexer] = value instead\n",
            "\n",
            "See the caveats in the documentation: https://pandas.pydata.org/pandas-docs/stable/user_guide/indexing.html#returning-a-view-versus-a-copy\n",
            "/usr/local/lib/python3.7/dist-packages/ipykernel_launcher.py:21: SettingWithCopyWarning: \n",
            "A value is trying to be set on a copy of a slice from a DataFrame.\n",
            "Try using .loc[row_indexer,col_indexer] = value instead\n",
            "\n",
            "See the caveats in the documentation: https://pandas.pydata.org/pandas-docs/stable/user_guide/indexing.html#returning-a-view-versus-a-copy\n",
            "/usr/local/lib/python3.7/dist-packages/ipykernel_launcher.py:24: SettingWithCopyWarning: \n",
            "A value is trying to be set on a copy of a slice from a DataFrame.\n",
            "Try using .loc[row_indexer,col_indexer] = value instead\n",
            "\n",
            "See the caveats in the documentation: https://pandas.pydata.org/pandas-docs/stable/user_guide/indexing.html#returning-a-view-versus-a-copy\n"
          ],
          "name": "stderr"
        }
      ]
    },
    {
      "cell_type": "code",
      "metadata": {
        "colab": {
          "base_uri": "https://localhost:8080/",
          "height": 204
        },
        "id": "h-z2yKNbiyhW",
        "outputId": "7afdf0bf-a687-4ca3-ff53-adc2cd194fb2"
      },
      "source": [
        "df1.head()"
      ],
      "execution_count": null,
      "outputs": [
        {
          "output_type": "execute_result",
          "data": {
            "text/html": [
              "<div>\n",
              "<style scoped>\n",
              "    .dataframe tbody tr th:only-of-type {\n",
              "        vertical-align: middle;\n",
              "    }\n",
              "\n",
              "    .dataframe tbody tr th {\n",
              "        vertical-align: top;\n",
              "    }\n",
              "\n",
              "    .dataframe thead th {\n",
              "        text-align: right;\n",
              "    }\n",
              "</style>\n",
              "<table border=\"1\" class=\"dataframe\">\n",
              "  <thead>\n",
              "    <tr style=\"text-align: right;\">\n",
              "      <th></th>\n",
              "      <th>Case Files</th>\n",
              "      <th>Label</th>\n",
              "    </tr>\n",
              "  </thead>\n",
              "  <tbody>\n",
              "    <tr>\n",
              "      <th>0</th>\n",
              "      <td>2017 p 1481 supreme court pakistan present mia...</td>\n",
              "      <td>Non-Bailable</td>\n",
              "    </tr>\n",
              "    <tr>\n",
              "      <th>1</th>\n",
              "      <td>2015 c r 365 supreme court pakistan present na...</td>\n",
              "      <td>Bailable</td>\n",
              "    </tr>\n",
              "    <tr>\n",
              "      <th>2</th>\n",
              "      <td>2016 c r 1420 supreme court pakistan present a...</td>\n",
              "      <td>Bailable</td>\n",
              "    </tr>\n",
              "    <tr>\n",
              "      <th>3</th>\n",
              "      <td>2016 c r 662 supreme court pakistan present an...</td>\n",
              "      <td>Bailable</td>\n",
              "    </tr>\n",
              "    <tr>\n",
              "      <th>4</th>\n",
              "      <td>p l 2012 supreme court 649 present mian shakir...</td>\n",
              "      <td>Bailable</td>\n",
              "    </tr>\n",
              "  </tbody>\n",
              "</table>\n",
              "</div>"
            ],
            "text/plain": [
              "                                          Case Files         Label\n",
              "0  2017 p 1481 supreme court pakistan present mia...  Non-Bailable\n",
              "1  2015 c r 365 supreme court pakistan present na...      Bailable\n",
              "2  2016 c r 1420 supreme court pakistan present a...      Bailable\n",
              "3  2016 c r 662 supreme court pakistan present an...      Bailable\n",
              "4  p l 2012 supreme court 649 present mian shakir...      Bailable"
            ]
          },
          "metadata": {
            "tags": []
          },
          "execution_count": 18
        }
      ]
    },
    {
      "cell_type": "code",
      "metadata": {
        "id": "EAMnS1Ttk2n4"
      },
      "source": [
        "df2 = df1.rename(columns={'Case Files': 'Case_Files'})"
      ],
      "execution_count": null,
      "outputs": []
    },
    {
      "cell_type": "code",
      "metadata": {
        "colab": {
          "base_uri": "https://localhost:8080/",
          "height": 204
        },
        "id": "jYlpRvcsmGkc",
        "outputId": "127757a5-4a90-4333-b455-4b29c568b73b"
      },
      "source": [
        "df2.head()"
      ],
      "execution_count": null,
      "outputs": [
        {
          "output_type": "execute_result",
          "data": {
            "text/html": [
              "<div>\n",
              "<style scoped>\n",
              "    .dataframe tbody tr th:only-of-type {\n",
              "        vertical-align: middle;\n",
              "    }\n",
              "\n",
              "    .dataframe tbody tr th {\n",
              "        vertical-align: top;\n",
              "    }\n",
              "\n",
              "    .dataframe thead th {\n",
              "        text-align: right;\n",
              "    }\n",
              "</style>\n",
              "<table border=\"1\" class=\"dataframe\">\n",
              "  <thead>\n",
              "    <tr style=\"text-align: right;\">\n",
              "      <th></th>\n",
              "      <th>Case_Files</th>\n",
              "      <th>Label</th>\n",
              "    </tr>\n",
              "  </thead>\n",
              "  <tbody>\n",
              "    <tr>\n",
              "      <th>0</th>\n",
              "      <td>2017 p 1481 supreme court pakistan present mia...</td>\n",
              "      <td>Non-Bailable</td>\n",
              "    </tr>\n",
              "    <tr>\n",
              "      <th>1</th>\n",
              "      <td>2015 c r 365 supreme court pakistan present na...</td>\n",
              "      <td>Bailable</td>\n",
              "    </tr>\n",
              "    <tr>\n",
              "      <th>2</th>\n",
              "      <td>2016 c r 1420 supreme court pakistan present a...</td>\n",
              "      <td>Bailable</td>\n",
              "    </tr>\n",
              "    <tr>\n",
              "      <th>3</th>\n",
              "      <td>2016 c r 662 supreme court pakistan present an...</td>\n",
              "      <td>Bailable</td>\n",
              "    </tr>\n",
              "    <tr>\n",
              "      <th>4</th>\n",
              "      <td>p l 2012 supreme court 649 present mian shakir...</td>\n",
              "      <td>Bailable</td>\n",
              "    </tr>\n",
              "  </tbody>\n",
              "</table>\n",
              "</div>"
            ],
            "text/plain": [
              "                                          Case_Files         Label\n",
              "0  2017 p 1481 supreme court pakistan present mia...  Non-Bailable\n",
              "1  2015 c r 365 supreme court pakistan present na...      Bailable\n",
              "2  2016 c r 1420 supreme court pakistan present a...      Bailable\n",
              "3  2016 c r 662 supreme court pakistan present an...      Bailable\n",
              "4  p l 2012 supreme court 649 present mian shakir...      Bailable"
            ]
          },
          "metadata": {
            "tags": []
          },
          "execution_count": 20
        }
      ]
    },
    {
      "cell_type": "code",
      "metadata": {
        "colab": {
          "base_uri": "https://localhost:8080/"
        },
        "id": "jKVL7RpAmJ8d",
        "outputId": "ab3ecfab-499e-4d0b-ca92-519448265c0e"
      },
      "source": [
        "df2.Case_Files"
      ],
      "execution_count": null,
      "outputs": [
        {
          "output_type": "execute_result",
          "data": {
            "text/plain": [
              "0     2017 p 1481 supreme court pakistan present mia...\n",
              "1     2015 c r 365 supreme court pakistan present na...\n",
              "2     2016 c r 1420 supreme court pakistan present a...\n",
              "3     2016 c r 662 supreme court pakistan present an...\n",
              "4     p l 2012 supreme court 649 present mian shakir...\n",
              "                            ...                        \n",
              "61    2016 c r 475 supreme court pakistan present ej...\n",
              "62    2018 c l 177 supreme court pakistan present ej...\n",
              "63    2020 c r 465 supreme court pakistan present qa...\n",
              "64    p l 2017 supreme court 99 present mian saqib n...\n",
              "65    2017 p l c c 428 supreme court pakistan presen...\n",
              "Name: Case_Files, Length: 66, dtype: object"
            ]
          },
          "metadata": {
            "tags": []
          },
          "execution_count": 21
        }
      ]
    },
    {
      "cell_type": "code",
      "metadata": {
        "colab": {
          "base_uri": "https://localhost:8080/",
          "height": 198
        },
        "id": "MyCllpmtkcmY",
        "outputId": "debd919e-2b6b-4d62-8eb5-23a17ce8ae2c"
      },
      "source": [
        "#visualization the most common words\n",
        "common_words=''\n",
        "for i in df2.Case_Files:\n",
        "    i = str(i)\n",
        "    tokens = i.split()\n",
        "    common_words += \" \".join(tokens)+\" \"\n",
        "wordcloud = wordcloud.WordCloud().generate(common_words)\n",
        "plt.imshow(wordcloud, interpolation='bilinear')\n",
        "plt.axis(\"off\")\n",
        "plt.show()"
      ],
      "execution_count": null,
      "outputs": [
        {
          "output_type": "display_data",
          "data": {
            "image/png": "[encoded data removed]",
            "text/plain": [
              "<Figure size 432x288 with 1 Axes>"
            ]
          },
          "metadata": {
            "tags": [],
            "needs_background": "light"
          }
        }
      ]
    },
    {
      "cell_type": "code",
      "metadata": {
        "id": "283-iJXzkpZo"
      },
      "source": [
        "#tokenizer\n",
        "#Num_words – This hyperparameter refers to the number of words to keep based on the frequency of words.\n",
        "#Split – This hyperparameter refers to the separator used for splitting the word.\n",
        "#pad_sequence() function is used to convert a list of sequences into a 2D NumPy array.\n",
        "#Tokenization and conversion into numerical vectors\n",
        "tokenizer = Tokenizer(num_words=500, split=' ') \n",
        "tokenizer.fit_on_texts(df2['Case_Files'].values)\n",
        "X = tokenizer.texts_to_sequences(df2['Case_Files'].values)\n",
        "X = pad_sequences(X)"
      ],
      "execution_count": null,
      "outputs": []
    },
    {
      "cell_type": "code",
      "metadata": {
        "colab": {
          "base_uri": "https://localhost:8080/"
        },
        "id": "kLSw9QVSm0SP",
        "outputId": "23debebf-c89b-49a6-ef29-48decb33ec7c"
      },
      "source": [
        "X.shape[1]"
      ],
      "execution_count": null,
      "outputs": [
        {
          "output_type": "execute_result",
          "data": {
            "text/plain": [
              "1779"
            ]
          },
          "metadata": {
            "tags": []
          },
          "execution_count": 24
        }
      ]
    },
    {
      "cell_type": "code",
      "metadata": {
        "colab": {
          "base_uri": "https://localhost:8080/"
        },
        "id": "8OZkUU7Sm1Gt",
        "outputId": "70d808cf-7045-4a28-d233-11aa4ab10b73"
      },
      "source": [
        "#neural nets can learn word embeddings by themselves\n",
        "model = Sequential()\n",
        "model.add(Embedding(500, 1028, input_length = X.shape[1]))#500 because tokenizer num_words=500 and 120 instead of this it can be anything\n",
        "model.add(Conv1D(filters=32, kernel_size=3, padding='same', activation='relu'))\n",
        "model.add(MaxPooling1D(pool_size=2))\n",
        "model.add(Conv1D(filters=64, kernel_size=3, padding='same', activation='relu'))\n",
        "model.add(MaxPooling1D(pool_size=2))\n",
        "model.add(Conv1D(filters=128, kernel_size=3, padding='same', activation='relu'))\n",
        "model.add(MaxPooling1D(pool_size=2))\n",
        "model.add(Conv1D(filters=256, kernel_size=3, padding='same', activation='relu'))\n",
        "model.add(MaxPooling1D(pool_size=2))\n",
        "model.add(MaxPooling1D(pool_size=2))\n",
        "model.add(MaxPooling1D(pool_size=2))\n",
        "model.add(SpatialDropout1D(0.2))\n",
        "model.add(LSTM(256, dropout=0.2, recurrent_dropout=0.2))# LSTM units can be anything drop out value can be anything\n",
        "model.add(Dense(128,activation='relu'))\n",
        "model.add(Dense(64,activation='relu'))\n",
        "model.add(Dense(1,activation='sigmoid'))# 2 because binary labels\n",
        "\n",
        "print(model.summary())"
      ],
      "execution_count": null,
      "outputs": [
        {
          "output_type": "stream",
          "text": [
            "Model: \"sequential_5\"\n",
            "_________________________________________________________________\n",
            "Layer (type)                 Output Shape              Param #   \n",
            "=================================================================\n",
            "embedding_5 (Embedding)      (None, 1779, 1028)        514000    \n",
            "_________________________________________________________________\n",
            "conv1d_9 (Conv1D)            (None, 1779, 32)          98720     \n",
            "_________________________________________________________________\n",
            "max_pooling1d_9 (MaxPooling1 (None, 889, 32)           0         \n",
            "_________________________________________________________________\n",
            "conv1d_10 (Conv1D)           (None, 889, 64)           6208      \n",
            "_________________________________________________________________\n",
            "max_pooling1d_10 (MaxPooling (None, 444, 64)           0         \n",
            "_________________________________________________________________\n",
            "conv1d_11 (Conv1D)           (None, 444, 128)          24704     \n",
            "_________________________________________________________________\n",
            "max_pooling1d_11 (MaxPooling (None, 222, 128)          0         \n",
            "_________________________________________________________________\n",
            "conv1d_12 (Conv1D)           (None, 222, 256)          98560     \n",
            "_________________________________________________________________\n",
            "max_pooling1d_12 (MaxPooling (None, 111, 256)          0         \n",
            "_________________________________________________________________\n",
            "max_pooling1d_13 (MaxPooling (None, 55, 256)           0         \n",
            "_________________________________________________________________\n",
            "max_pooling1d_14 (MaxPooling (None, 27, 256)           0         \n",
            "_________________________________________________________________\n",
            "spatial_dropout1d_5 (Spatial (None, 27, 256)           0         \n",
            "_________________________________________________________________\n",
            "lstm_5 (LSTM)                (None, 256)               525312    \n",
            "_________________________________________________________________\n",
            "dense_14 (Dense)             (None, 128)               32896     \n",
            "_________________________________________________________________\n",
            "dense_15 (Dense)             (None, 64)                8256      \n",
            "_________________________________________________________________\n",
            "dense_16 (Dense)             (None, 1)                 65        \n",
            "=================================================================\n",
            "Total params: 1,308,721\n",
            "Trainable params: 1,308,721\n",
            "Non-trainable params: 0\n",
            "_________________________________________________________________\n",
            "None\n"
          ],
          "name": "stdout"
        }
      ]
    },
    {
      "cell_type": "code",
      "metadata": {
        "id": "n9gbMM4Uuqa-"
      },
      "source": [
        "model.compile(loss = 'binary_crossentropy',optimizer='adam', metrics = ['accuracy'])"
      ],
      "execution_count": null,
      "outputs": []
    },
    {
      "cell_type": "code",
      "metadata": {
        "id": "jGRq-8n3nAk9"
      },
      "source": [
        "y=df['Label']\n",
        "from sklearn.preprocessing import LabelEncoder\n",
        "obj=LabelEncoder()\n",
        "y=obj.fit_transform(y)\n",
        "#y=pd.get_dummies(df2['Label'])"
      ],
      "execution_count": null,
      "outputs": []
    },
    {
      "cell_type": "code",
      "metadata": {
        "colab": {
          "base_uri": "https://localhost:8080/"
        },
        "id": "W-G7b13p6ojJ",
        "outputId": "42297f81-d489-40cf-ec88-1794d21863d0"
      },
      "source": [
        "y"
      ],
      "execution_count": null,
      "outputs": [
        {
          "output_type": "execute_result",
          "data": {
            "text/plain": [
              "array([1, 0, 0, 0, 0, 0, 0, 0, 1, 0, 0, 0, 0, 1, 1, 0, 0, 0, 0, 1, 0, 0,\n",
              "       1, 0, 0, 1, 0, 0, 0, 1, 1, 1, 0, 0, 0, 0, 1, 0, 1, 0, 1, 0, 0, 1,\n",
              "       0, 1, 1, 1, 0, 0, 0, 1, 1, 0, 0, 0, 0, 1, 0, 1, 0, 0, 1, 1, 0, 0])"
            ]
          },
          "metadata": {
            "tags": []
          },
          "execution_count": 33
        }
      ]
    },
    {
      "cell_type": "code",
      "metadata": {
        "id": "SoSAeJAGnKtz"
      },
      "source": [
        "X_train, X_test, y_train, y_test = train_test_split(X,y, test_size = 0.2, random_state = 42)"
      ],
      "execution_count": null,
      "outputs": []
    },
    {
      "cell_type": "code",
      "metadata": {
        "id": "4DY6SJQw8Y8a"
      },
      "source": [
        "model.compile(loss = 'binary_crossentropy', optimizer='adam', metrics = ['accuracy'])"
      ],
      "execution_count": null,
      "outputs": []
    },
    {
      "cell_type": "code",
      "metadata": {
        "colab": {
          "base_uri": "https://localhost:8080/"
        },
        "id": "XULCikD6ncDI",
        "outputId": "bd2fb295-31bf-4e77-d8fc-dd4bd89fad9c"
      },
      "source": [
        "batch_size=128\n",
        "model.fit(X_train, y_train,validation_split=0.1,epochs = 10, batch_size=batch_size, verbose = 'auto')"
      ],
      "execution_count": null,
      "outputs": [
        {
          "output_type": "stream",
          "text": [
            "Epoch 1/10\n",
            "1/1 [==============================] - 33s 33s/step - loss: 0.6930 - accuracy: 0.5435 - val_loss: 0.6827 - val_accuracy: 0.6667\n",
            "Epoch 2/10\n",
            "1/1 [==============================] - 3s 3s/step - loss: 0.6808 - accuracy: 0.6739 - val_loss: 0.6559 - val_accuracy: 0.6667\n",
            "Epoch 3/10\n",
            "1/1 [==============================] - 3s 3s/step - loss: 0.6523 - accuracy: 0.6739 - val_loss: 0.6220 - val_accuracy: 0.6667\n",
            "Epoch 4/10\n",
            "1/1 [==============================] - 3s 3s/step - loss: 0.6206 - accuracy: 0.6739 - val_loss: 0.6392 - val_accuracy: 0.6667\n",
            "Epoch 5/10\n",
            "1/1 [==============================] - 3s 3s/step - loss: 0.6520 - accuracy: 0.6739 - val_loss: 0.6209 - val_accuracy: 0.6667\n",
            "Epoch 6/10\n",
            "1/1 [==============================] - 3s 3s/step - loss: 0.6076 - accuracy: 0.6739 - val_loss: 0.6289 - val_accuracy: 0.6667\n",
            "Epoch 7/10\n",
            "1/1 [==============================] - 3s 3s/step - loss: 0.6053 - accuracy: 0.6739 - val_loss: 0.6293 - val_accuracy: 0.6667\n",
            "Epoch 8/10\n",
            "1/1 [==============================] - 3s 3s/step - loss: 0.5984 - accuracy: 0.6739 - val_loss: 0.6231 - val_accuracy: 0.6667\n",
            "Epoch 9/10\n",
            "1/1 [==============================] - 3s 3s/step - loss: 0.5850 - accuracy: 0.6739 - val_loss: 0.6219 - val_accuracy: 0.6667\n",
            "Epoch 10/10\n",
            "1/1 [==============================] - 3s 3s/step - loss: 0.5507 - accuracy: 0.6739 - val_loss: 0.6417 - val_accuracy: 0.6667\n"
          ],
          "name": "stdout"
        },
        {
          "output_type": "execute_result",
          "data": {
            "text/plain": [
              "<keras.callbacks.History at 0x7f5c17159850>"
            ]
          },
          "metadata": {
            "tags": []
          },
          "execution_count": 37
        }
      ]
    },
    {
      "cell_type": "code",
      "metadata": {
        "colab": {
          "base_uri": "https://localhost:8080/"
        },
        "id": "GWZoPVNfngdB",
        "outputId": "0c99c03c-87e9-40dd-c177-d700cf923c5e"
      },
      "source": [
        "model.evaluate(X_test,y_test)"
      ],
      "execution_count": null,
      "outputs": [
        {
          "output_type": "stream",
          "text": [
            "1/1 [==============================] - 0s 245ms/step - loss: 0.7514 - accuracy: 0.5714\n"
          ],
          "name": "stdout"
        },
        {
          "output_type": "execute_result",
          "data": {
            "text/plain": [
              "[0.7514468431472778, 0.5714285969734192]"
            ]
          },
          "metadata": {
            "tags": []
          },
          "execution_count": 38
        }
      ]
    },
    {
      "cell_type": "code",
      "metadata": {
        "id": "zgCWMBZ3pmhT"
      },
      "source": [
        ""
      ],
      "execution_count": null,
      "outputs": []
    }
  ]
}